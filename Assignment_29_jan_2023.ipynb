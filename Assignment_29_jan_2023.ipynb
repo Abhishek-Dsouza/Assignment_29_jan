{
 "cells": [
  {
   "cell_type": "markdown",
   "id": "7f294e02",
   "metadata": {},
   "source": [
    "# ASSIGNMENT "
   ]
  },
  {
   "cell_type": "markdown",
   "id": "42b73f69",
   "metadata": {},
   "source": [
    "## 1. who developed python programing language ?\n",
    "\n",
    "### Answer :- Python was Developed  by Guido van Rossum in  February 20, 1991."
   ]
  },
  {
   "cell_type": "markdown",
   "id": "c2a6f4fc",
   "metadata": {},
   "source": [
    "## 2. Which type of Programming does Python support?\n",
    "\n",
    "### Answer:- Python is a Dynamic Programming language It is  an interpreted programming language supporting object-oriented, structured, and functional programming."
   ]
  },
  {
   "cell_type": "markdown",
   "id": "fef24a12",
   "metadata": {},
   "source": [
    "## 3. Is Python case sensitive when dealing with identifiers?\n",
    "\n",
    "### Answer:- Yes, Python is a case-sensitive language... Python  treats uppercase and lowercase characters in diffrent ways. This applies to identifiers too. You must avoid using the same name with different cases while naming identifiers."
   ]
  },
  {
   "cell_type": "markdown",
   "id": "53b5977e",
   "metadata": {},
   "source": [
    "## 4. What is the correct extension of the Python file?\n",
    "\n",
    "### Answer :- The extensions for Python files are - . py, . pyi, . "
   ]
  },
  {
   "cell_type": "markdown",
   "id": "1ea4a737",
   "metadata": {},
   "source": [
    "## 5. Is Python code compiled or interpreted?\n",
    "\n",
    "### Python is an interpreted language, which means the source code of a Python program is converted into bytecode that is then executed by the Python virtual machine."
   ]
  },
  {
   "cell_type": "markdown",
   "id": "321046d3",
   "metadata": {},
   "source": [
    "## 6. Name a few blocks of code used to define in Python language?\n",
    "\n",
    "### Answer:- In Python, blocks of code are defined using indentation. Some of the most common blocks of code used in Python include:\n",
    "\n",
    "### Functions: A block of code that can be called multiple times with different arguments. Functions are defined using the def keyword.\n",
    "\n",
    "### For loops: A block of code that iterates over a sequence or range of values. For loops are defined using the for keyword.\n",
    "\n",
    "### While loops: A block of code that is executed repeatedly until a specific condition is met. While loops are defined using the while keyword.\n",
    "\n",
    "### If-Else statements: A block of code that is executed only when a certain condition is met. If-Else statements are defined using the if and else keywords.\n",
    "\n",
    "### Try-Except blocks: A block of code that is used to handle exceptions, or errors, that might occur during execution. Try-Except blocks are defined using the try and except keywords.\n",
    "\n",
    "### These are some of the most commonly used blocks of code in Python, but there are many more that can be used to define and structure a program."
   ]
  },
  {
   "cell_type": "markdown",
   "id": "1045e7b9",
   "metadata": {},
   "source": [
    "## 7. State a character used to give single-line comments in Python?\n",
    "\n",
    "### Answer:- In Python, a single-line comment is indicated by a hash symbol (#). Everything after the # symbol on a line is considered a comment and is ignored by the interpreter when the code is executed. For example:\n",
    "\n",
    "## #This is a single-line comment in Python\n"
   ]
  },
  {
   "cell_type": "markdown",
   "id": "5ec62c4b",
   "metadata": {},
   "source": [
    "## 8. Mention functions which can help us to find the version of python that we are currently working on?\n",
    "\n",
    "### Answer:- We can use three functions to find the Version of python.\n",
    "### 1.Using sys. version method.\n",
    "### 2.Using python_version() function.\n",
    "### 3.Using Python -V command.\n"
   ]
  },
  {
   "cell_type": "markdown",
   "id": "d1a02237",
   "metadata": {},
   "source": [
    "## 9. Python supports the creation of anonymous functions at runtime, using a construct called\n",
    "\n",
    "### Answer :- Python supports to make anonymous functions which are not bound to a name. It uses a construct called \"lambda\" ."
   ]
  },
  {
   "cell_type": "markdown",
   "id": "5ea28cd8",
   "metadata": {},
   "source": [
    "## 10. What does pip stand for python?\n",
    "\n",
    "### Answer :- pip stand for  preferred installer program.  PIP Installs Packages. It is a command-line utility that installs, reinstalls, or uninstalls PyPI packages with one simple command: pip"
   ]
  },
  {
   "cell_type": "markdown",
   "id": "30fb1a76",
   "metadata": {},
   "source": [
    "## 11. Mention a few built- in functions in python?\n",
    "\n",
    "### Answer :- print( ) - function (The print() function prints the specified message to the screen or another standard output device.)\n",
    "### type( ) function - ( function returns the type of the specified object.)\n",
    "### input( ) function - (function allows taking the input from the user.)\n",
    "### abs( ) function - (function returns the absolute value of the specified number.)\n",
    "### pow( ) function - (function returns the calculated value of x to the power of y i.e, xy.)\n",
    "### dir( ) function - (The dir() function returns all the properties and methods of the specified object, without the values.)\n",
    "### sorted( ) function - (The sorted() function returns a sorted list of the specified iterable object.)\n",
    "### max( ) function - (function returns the item with the maximum value or the item with the maximum value in an iterable.)\n",
    "### round( ) function - (the function returns a floating-point number that is a rounded version of the specified number, with the specified number of decimals.)\n",
    "### divmod( ) function - (the function returns a tuple containing the quotient and the remainder when the first argument i.e, the dividend is divided by the second argument i.e, the divisor.)\n",
    "### id( ) function - (the function returns a unique id for the specified object. Note that all the objects in Python have their own unique id.)\n",
    "### ord( ) function - (The function returns the number representing the Unicode code of a specified character.)\n",
    "### len( ) function - (the function returns the count of items present in a specified object.)\n",
    "### sum( ) function - (the function returns a number, the sum of all items in an iterable.)"
   ]
  },
  {
   "cell_type": "markdown",
   "id": "351df5e7",
   "metadata": {},
   "source": [
    "## 12. What is the maximum possible length of an identifier in Python?\n",
    "\n",
    "### Answer:-  An identifier can have a maximum length of 79 characters in Python."
   ]
  },
  {
   "cell_type": "markdown",
   "id": "5cdfe335",
   "metadata": {},
   "source": [
    "## 13.  What are the benefits of using Python? \n",
    "\n",
    "### Answer:- Python is commonly used for developing websites and software, task automation, data analysis, and data visualization , Data Science ,Machine Learning etc. "
   ]
  },
  {
   "cell_type": "markdown",
   "id": "68539dc6",
   "metadata": {},
   "source": [
    "## 14. . How is memory managed in Python?\n",
    "\n",
    "### Answer:- Python uses a portion of the memory for internal use and non-object memory. Another part of the memory is used for Python object such as int, dict, list, etc."
   ]
  },
  {
   "cell_type": "markdown",
   "id": "36863777",
   "metadata": {},
   "source": [
    "## 15. How to install Python on Windows and set path variables?\n",
    "\n",
    "### Answer:-  Right-clicking This PC and going to Properties.Clicking on the Advanced system settings in the menu on the left.\n",
    "### Clicking on the Environment Variables button o​n the bottom right.In the System variables section, selecting the Path variable and clicking on Edit. The next screen will show all the directories that are currently a part of the PATH variable.\n",
    "### Clicking on New and entering Python’s install directory.\n",
    "### Python can now be used directly from the command prompt without having to write its location. Try executing the command python --version; it will output the version of Python installed on your system."
   ]
  },
  {
   "cell_type": "markdown",
   "id": "ddd61210",
   "metadata": {},
   "source": [
    "## 16. Is indentation required in python?\n",
    "\n",
    "### Answer:- Indentation is mandatory in python to define the blocks of statements."
   ]
  },
  {
   "cell_type": "code",
   "execution_count": null,
   "id": "b27974ad",
   "metadata": {},
   "outputs": [],
   "source": []
  },
  {
   "cell_type": "code",
   "execution_count": null,
   "id": "b71b2955",
   "metadata": {},
   "outputs": [],
   "source": []
  }
 ],
 "metadata": {
  "kernelspec": {
   "display_name": "Python 3 (ipykernel)",
   "language": "python",
   "name": "python3"
  },
  "language_info": {
   "codemirror_mode": {
    "name": "ipython",
    "version": 3
   },
   "file_extension": ".py",
   "mimetype": "text/x-python",
   "name": "python",
   "nbconvert_exporter": "python",
   "pygments_lexer": "ipython3",
   "version": "3.9.13"
  }
 },
 "nbformat": 4,
 "nbformat_minor": 5
}
